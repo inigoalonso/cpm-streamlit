{
 "cells": [
  {
   "cell_type": "code",
   "execution_count": 1,
   "metadata": {},
   "outputs": [],
   "source": [
    "import numpy as np"
   ]
  },
  {
   "cell_type": "code",
   "execution_count": 4,
   "metadata": {},
   "outputs": [
    {
     "data": {
      "text/plain": [
       "array([0.  , 0.01, 0.02, 0.03, 0.04, 0.05, 0.06, 0.07, 0.08, 0.09, 0.1 ,\n",
       "       0.11, 0.12, 0.13, 0.14, 0.15, 0.16, 0.17, 0.18, 0.19, 0.2 , 0.21,\n",
       "       0.22, 0.23, 0.24, 0.25, 0.26, 0.27, 0.28, 0.29, 0.3 , 0.31, 0.32,\n",
       "       0.33, 0.34, 0.35, 0.36, 0.37, 0.38, 0.39, 0.4 , 0.41, 0.42, 0.43,\n",
       "       0.44, 0.45, 0.46, 0.47, 0.48, 0.49, 0.5 , 0.51, 0.52, 0.53, 0.54,\n",
       "       0.55, 0.56, 0.57, 0.58, 0.59, 0.6 , 0.61, 0.62, 0.63, 0.64, 0.65,\n",
       "       0.66, 0.67, 0.68, 0.69, 0.7 , 0.71, 0.72, 0.73, 0.74, 0.75, 0.76,\n",
       "       0.77, 0.78, 0.79, 0.8 , 0.81, 0.82, 0.83, 0.84, 0.85, 0.86, 0.87,\n",
       "       0.88, 0.89, 0.9 , 0.91, 0.92, 0.93, 0.94, 0.95, 0.96, 0.97, 0.98,\n",
       "       0.99, 1.  ])"
      ]
     },
     "execution_count": 4,
     "metadata": {},
     "output_type": "execute_result"
    }
   ],
   "source": [
    "np.arange(0,1.01,0.01)"
   ]
  },
  {
   "cell_type": "code",
   "execution_count": 8,
   "metadata": {},
   "outputs": [
    {
     "data": {
      "text/plain": [
       "[[0.0, 0.0, 0.0, 0.0, 0.0, 0.0, 0.0, 0.0, 0.0, 0.0, 0.0],\n",
       " [0.0,\n",
       "  0.010000000000000002,\n",
       "  0.020000000000000004,\n",
       "  0.030000000000000006,\n",
       "  0.04000000000000001,\n",
       "  0.05,\n",
       "  0.06000000000000001,\n",
       "  0.07,\n",
       "  0.08000000000000002,\n",
       "  0.09000000000000001,\n",
       "  0.1],\n",
       " [0.0,\n",
       "  0.020000000000000004,\n",
       "  0.04000000000000001,\n",
       "  0.06000000000000001,\n",
       "  0.08000000000000002,\n",
       "  0.1,\n",
       "  0.12000000000000002,\n",
       "  0.14,\n",
       "  0.16000000000000003,\n",
       "  0.18000000000000002,\n",
       "  0.2],\n",
       " [0.0,\n",
       "  0.030000000000000006,\n",
       "  0.06000000000000001,\n",
       "  0.09000000000000002,\n",
       "  0.12000000000000002,\n",
       "  0.15000000000000002,\n",
       "  0.18000000000000005,\n",
       "  0.21000000000000005,\n",
       "  0.24000000000000005,\n",
       "  0.2700000000000001,\n",
       "  0.30000000000000004],\n",
       " [0.0,\n",
       "  0.04000000000000001,\n",
       "  0.08000000000000002,\n",
       "  0.12000000000000002,\n",
       "  0.16000000000000003,\n",
       "  0.2,\n",
       "  0.24000000000000005,\n",
       "  0.28,\n",
       "  0.32000000000000006,\n",
       "  0.36000000000000004,\n",
       "  0.4],\n",
       " [0.0,\n",
       "  0.05,\n",
       "  0.1,\n",
       "  0.15000000000000002,\n",
       "  0.2,\n",
       "  0.25,\n",
       "  0.30000000000000004,\n",
       "  0.35000000000000003,\n",
       "  0.4,\n",
       "  0.45,\n",
       "  0.5],\n",
       " [0.0,\n",
       "  0.06000000000000001,\n",
       "  0.12000000000000002,\n",
       "  0.18000000000000005,\n",
       "  0.24000000000000005,\n",
       "  0.30000000000000004,\n",
       "  0.3600000000000001,\n",
       "  0.4200000000000001,\n",
       "  0.4800000000000001,\n",
       "  0.5400000000000001,\n",
       "  0.6000000000000001],\n",
       " [0.0,\n",
       "  0.07,\n",
       "  0.14,\n",
       "  0.21000000000000005,\n",
       "  0.28,\n",
       "  0.35000000000000003,\n",
       "  0.4200000000000001,\n",
       "  0.4900000000000001,\n",
       "  0.56,\n",
       "  0.6300000000000001,\n",
       "  0.7000000000000001],\n",
       " [0.0,\n",
       "  0.08000000000000002,\n",
       "  0.16000000000000003,\n",
       "  0.24000000000000005,\n",
       "  0.32000000000000006,\n",
       "  0.4,\n",
       "  0.4800000000000001,\n",
       "  0.56,\n",
       "  0.6400000000000001,\n",
       "  0.7200000000000001,\n",
       "  0.8],\n",
       " [0.0,\n",
       "  0.09000000000000001,\n",
       "  0.18000000000000002,\n",
       "  0.2700000000000001,\n",
       "  0.36000000000000004,\n",
       "  0.45,\n",
       "  0.5400000000000001,\n",
       "  0.6300000000000001,\n",
       "  0.7200000000000001,\n",
       "  0.81,\n",
       "  0.9],\n",
       " [0.0,\n",
       "  0.1,\n",
       "  0.2,\n",
       "  0.30000000000000004,\n",
       "  0.4,\n",
       "  0.5,\n",
       "  0.6000000000000001,\n",
       "  0.7000000000000001,\n",
       "  0.8,\n",
       "  0.9,\n",
       "  1.0]]"
      ]
     },
     "execution_count": 8,
     "metadata": {},
     "output_type": "execute_result"
    }
   ],
   "source": [
    "[[j*i for j in np.arange(0,1.1,0.1)] for i in np.arange(0,1.1,0.1)]"
   ]
  },
  {
   "cell_type": "code",
   "execution_count": 12,
   "metadata": {},
   "outputs": [
    {
     "ename": "AttributeError",
     "evalue": "module 'plotly.express' has no attribute 'contour'",
     "output_type": "error",
     "traceback": [
      "\u001b[1;31m---------------------------------------------------------------------------\u001b[0m",
      "\u001b[1;31mAttributeError\u001b[0m                            Traceback (most recent call last)",
      "Cell \u001b[1;32mIn[12], line 13\u001b[0m\n\u001b[0;32m     10\u001b[0m Z \u001b[39m=\u001b[39m X \u001b[39m*\u001b[39m Y \u001b[39m-\u001b[39m \u001b[39m0.1\u001b[39m\n\u001b[0;32m     12\u001b[0m \u001b[39m# Plot the contour using Plotly's contour function\u001b[39;00m\n\u001b[1;32m---> 13\u001b[0m fig \u001b[39m=\u001b[39m px\u001b[39m.\u001b[39;49mcontour(x\u001b[39m=\u001b[39mX, y\u001b[39m=\u001b[39mY, z\u001b[39m=\u001b[39mZ, levels\u001b[39m=\u001b[39m[\u001b[39m0\u001b[39m])\n\u001b[0;32m     14\u001b[0m fig\u001b[39m.\u001b[39mshow()\n",
      "\u001b[1;31mAttributeError\u001b[0m: module 'plotly.express' has no attribute 'contour'"
     ]
    }
   ],
   "source": [
    "import plotly.express as px\n",
    "import numpy as np\n",
    "\n",
    "# Create an evenly spaced grid of values in the interval [0, 1] for x and y\n",
    "x = np.linspace(0, 1, 100)\n",
    "y = np.linspace(0, 1, 100)\n",
    "X, Y = np.meshgrid(x, y)\n",
    "\n",
    "# Calculate z values based on the function x * y = 0.1\n",
    "Z = X * Y - 0.1\n",
    "\n",
    "# Plot the contour using Plotly's contour function\n",
    "fig = px.contour(x=X, y=Y, z=Z, levels=[0])\n",
    "fig.show()"
   ]
  },
  {
   "cell_type": "code",
   "execution_count": 18,
   "metadata": {},
   "outputs": [
    {
     "name": "stderr",
     "output_type": "stream",
     "text": [
      "C:\\Users\\inigoa\\AppData\\Local\\Temp\\ipykernel_29040\\854967536.py:8: RuntimeWarning: divide by zero encountered in divide\n",
      "  y = 0.1 / x\n"
     ]
    },
    {
     "ename": "ValueError",
     "evalue": "Mime type rendering requires nbformat>=4.2.0 but it is not installed",
     "output_type": "error",
     "traceback": [
      "\u001b[1;31m---------------------------------------------------------------------------\u001b[0m",
      "\u001b[1;31mValueError\u001b[0m                                Traceback (most recent call last)",
      "Cell \u001b[1;32mIn[18], line 12\u001b[0m\n\u001b[0;32m     10\u001b[0m \u001b[39m# Plot the line using Plotly's scatter function with mode='lines'\u001b[39;00m\n\u001b[0;32m     11\u001b[0m fig \u001b[39m=\u001b[39m px\u001b[39m.\u001b[39mline(x\u001b[39m=\u001b[39mx, y\u001b[39m=\u001b[39my)\n\u001b[1;32m---> 12\u001b[0m fig\u001b[39m.\u001b[39;49mshow()\n",
      "File \u001b[1;32m~\\AppData\\Roaming\\Python\\Python310\\site-packages\\plotly\\basedatatypes.py:3390\u001b[0m, in \u001b[0;36mBaseFigure.show\u001b[1;34m(self, *args, **kwargs)\u001b[0m\n\u001b[0;32m   3357\u001b[0m \u001b[39m\"\"\"\u001b[39;00m\n\u001b[0;32m   3358\u001b[0m \u001b[39mShow a figure using either the default renderer(s) or the renderer(s)\u001b[39;00m\n\u001b[0;32m   3359\u001b[0m \u001b[39mspecified by the renderer argument\u001b[39;00m\n\u001b[1;32m   (...)\u001b[0m\n\u001b[0;32m   3386\u001b[0m \u001b[39mNone\u001b[39;00m\n\u001b[0;32m   3387\u001b[0m \u001b[39m\"\"\"\u001b[39;00m\n\u001b[0;32m   3388\u001b[0m \u001b[39mimport\u001b[39;00m \u001b[39mplotly\u001b[39;00m\u001b[39m.\u001b[39;00m\u001b[39mio\u001b[39;00m \u001b[39mas\u001b[39;00m \u001b[39mpio\u001b[39;00m\n\u001b[1;32m-> 3390\u001b[0m \u001b[39mreturn\u001b[39;00m pio\u001b[39m.\u001b[39mshow(\u001b[39mself\u001b[39m, \u001b[39m*\u001b[39margs, \u001b[39m*\u001b[39m\u001b[39m*\u001b[39mkwargs)\n",
      "File \u001b[1;32m~\\AppData\\Roaming\\Python\\Python310\\site-packages\\plotly\\io\\_renderers.py:396\u001b[0m, in \u001b[0;36mshow\u001b[1;34m(fig, renderer, validate, **kwargs)\u001b[0m\n\u001b[0;32m    391\u001b[0m         \u001b[39mraise\u001b[39;00m \u001b[39mValueError\u001b[39;00m(\n\u001b[0;32m    392\u001b[0m             \u001b[39m\"\u001b[39m\u001b[39mMime type rendering requires ipython but it is not installed\u001b[39m\u001b[39m\"\u001b[39m\n\u001b[0;32m    393\u001b[0m         )\n\u001b[0;32m    395\u001b[0m     \u001b[39mif\u001b[39;00m \u001b[39mnot\u001b[39;00m nbformat \u001b[39mor\u001b[39;00m LooseVersion(nbformat\u001b[39m.\u001b[39m__version__) \u001b[39m<\u001b[39m LooseVersion(\u001b[39m\"\u001b[39m\u001b[39m4.2.0\u001b[39m\u001b[39m\"\u001b[39m):\n\u001b[1;32m--> 396\u001b[0m         \u001b[39mraise\u001b[39;00m \u001b[39mValueError\u001b[39;00m(\n\u001b[0;32m    397\u001b[0m             \u001b[39m\"\u001b[39m\u001b[39mMime type rendering requires nbformat>=4.2.0 but it is not installed\u001b[39m\u001b[39m\"\u001b[39m\n\u001b[0;32m    398\u001b[0m         )\n\u001b[0;32m    400\u001b[0m     ipython_display\u001b[39m.\u001b[39mdisplay(bundle, raw\u001b[39m=\u001b[39m\u001b[39mTrue\u001b[39;00m)\n\u001b[0;32m    402\u001b[0m \u001b[39m# external renderers\u001b[39;00m\n",
      "\u001b[1;31mValueError\u001b[0m: Mime type rendering requires nbformat>=4.2.0 but it is not installed"
     ]
    }
   ],
   "source": [
    "import plotly.express as px\n",
    "import numpy as np\n",
    "\n",
    "# Create an evenly spaced grid of values in the interval [0, 1] for x\n",
    "x = np.linspace(0, 1, 100)\n",
    "\n",
    "# Calculate y values based on the function x * y = 0.1\n",
    "y = 0.1 / x\n",
    "\n",
    "# Plot the line using Plotly's scatter function with mode='lines'\n",
    "fig = px.line(x=x, y=y)\n",
    "fig.show()"
   ]
  },
  {
   "cell_type": "code",
   "execution_count": 16,
   "metadata": {},
   "outputs": [
    {
     "data": {
      "text/plain": [
       "array([[0.00000000e+00, 0.00000000e+00, 0.00000000e+00, ...,\n",
       "        0.00000000e+00, 0.00000000e+00, 0.00000000e+00],\n",
       "       [0.00000000e+00, 1.02030405e-04, 2.04060810e-04, ...,\n",
       "        9.89694929e-03, 9.99897970e-03, 1.01010101e-02],\n",
       "       [0.00000000e+00, 2.04060810e-04, 4.08121620e-04, ...,\n",
       "        1.97938986e-02, 1.99979594e-02, 2.02020202e-02],\n",
       "       ...,\n",
       "       [0.00000000e+00, 9.89694929e-03, 1.97938986e-02, ...,\n",
       "        9.60004081e-01, 9.69901031e-01, 9.79797980e-01],\n",
       "       [0.00000000e+00, 9.99897970e-03, 1.99979594e-02, ...,\n",
       "        9.69901031e-01, 9.79900010e-01, 9.89898990e-01],\n",
       "       [0.00000000e+00, 1.01010101e-02, 2.02020202e-02, ...,\n",
       "        9.79797980e-01, 9.89898990e-01, 1.00000000e+00]])"
      ]
     },
     "execution_count": 16,
     "metadata": {},
     "output_type": "execute_result"
    }
   ],
   "source": [
    "Z"
   ]
  },
  {
   "cell_type": "code",
   "execution_count": null,
   "metadata": {},
   "outputs": [],
   "source": []
  }
 ],
 "metadata": {
  "kernelspec": {
   "display_name": "Python 3",
   "language": "python",
   "name": "python3"
  },
  "language_info": {
   "codemirror_mode": {
    "name": "ipython",
    "version": 3
   },
   "file_extension": ".py",
   "mimetype": "text/x-python",
   "name": "python",
   "nbconvert_exporter": "python",
   "pygments_lexer": "ipython3",
   "version": "3.10.4"
  },
  "orig_nbformat": 4,
  "vscode": {
   "interpreter": {
    "hash": "369f2c481f4da34e4445cda3fffd2e751bd1c4d706f27375911949ba6bb62e1c"
   }
  }
 },
 "nbformat": 4,
 "nbformat_minor": 2
}
